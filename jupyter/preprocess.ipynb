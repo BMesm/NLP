{
 "cells": [
  {
   "cell_type": "code",
   "execution_count": 1,
   "metadata": {},
   "outputs": [],
   "source": [
    "import pandas as pd"
   ]
  },
  {
   "cell_type": "code",
   "execution_count": 127,
   "metadata": {},
   "outputs": [],
   "source": [
    "df = pd.read_csv(\"SquidGames.csv\", sep='\\t')\n",
    "df = df.drop_duplicates()\n",
    "df = df.reset_index(drop=True)\n",
    "df['Tweets'].replace(r\"\\d+ \\d+-\\d+-\\d+ \\d+:\\d+:\\d+ \\+\\d+\",\"\",regex=True,inplace=True)\n",
    "df[\"Author\"] = df['Tweets'].str.extract(r'^ <(.*?)>')\n",
    "df['Tweets'].replace(r\"^ <(.*?)>\",\"\",regex=True,inplace=True)"
   ]
  },
  {
   "cell_type": "code",
   "execution_count": 122,
   "metadata": {},
   "outputs": [],
   "source": [
    "df[\"To\"] = df['Tweets'].str.extract(r'^@.*? ')"
   ]
  },
  {
   "cell_type": "code",
   "execution_count": 138,
   "metadata": {},
   "outputs": [
    {
     "name": "stdout",
     "output_type": "stream",
     "text": [
      "1\n",
      "1\n",
      "1\n",
      "1\n",
      "1\n",
      "1\n",
      "1\n",
      "1\n",
      "1\n",
      "1\n",
      "1\n",
      "1\n",
      "1\n",
      "1\n",
      "1\n",
      "1\n",
      "1\n",
      "1\n",
      "1\n",
      "1\n",
      "1\n",
      "1\n",
      "1\n",
      "1\n",
      "1\n",
      "1\n",
      "1\n",
      "1\n",
      "1\n",
      "1\n",
      "1\n",
      "1\n",
      "1\n",
      "1\n",
      "1\n",
      "1\n",
      "1\n",
      "1\n",
      "1\n",
      "1\n",
      "1\n",
      "1\n",
      "1\n",
      "1\n"
     ]
    }
   ],
   "source": [
    "while True:\n",
    "    try:\n",
    "        it =+ 1\n",
    "        col_name = \"To\" + str(it)\n",
    "        print(it)\n",
    "        df[col_name] = df['Tweets'].str.extract(r'^ (@.*? )*')\n",
    "        df['Tweets'].replace(r\"^ (@.*? )*\",\"\",regex=True,inplace=True)\n",
    "    except:\n",
    "        break"
   ]
  },
  {
   "cell_type": "code",
   "execution_count": 136,
   "metadata": {},
   "outputs": [
    {
     "data": {
      "text/html": [
       "<div>\n",
       "<style scoped>\n",
       "    .dataframe tbody tr th:only-of-type {\n",
       "        vertical-align: middle;\n",
       "    }\n",
       "\n",
       "    .dataframe tbody tr th {\n",
       "        vertical-align: top;\n",
       "    }\n",
       "\n",
       "    .dataframe thead th {\n",
       "        text-align: right;\n",
       "    }\n",
       "</style>\n",
       "<table border=\"1\" class=\"dataframe\">\n",
       "  <thead>\n",
       "    <tr style=\"text-align: right;\">\n",
       "      <th></th>\n",
       "      <th>Tweets</th>\n",
       "      <th>Author</th>\n",
       "      <th>To1</th>\n",
       "    </tr>\n",
       "  </thead>\n",
       "  <tbody>\n",
       "    <tr>\n",
       "      <th>0</th>\n",
       "      <td>Squid games baru nyampek S2 kah?</td>\n",
       "      <td>brucettha</td>\n",
       "      <td>NaN</td>\n",
       "    </tr>\n",
       "    <tr>\n",
       "      <th>1</th>\n",
       "      <td>Squid games baru nyampek S2 kah?</td>\n",
       "      <td>brucettha</td>\n",
       "      <td>NaN</td>\n",
       "    </tr>\n",
       "    <tr>\n",
       "      <th>2</th>\n",
       "      <td>Squid games sama yumi cells🤩</td>\n",
       "      <td>nirrguna</td>\n",
       "      <td>NaN</td>\n",
       "    </tr>\n",
       "    <tr>\n",
       "      <th>3</th>\n",
       "      <td>Yumi's Cells sama squid games</td>\n",
       "      <td>Vitaliatristin3</td>\n",
       "      <td>NaN</td>\n",
       "    </tr>\n",
       "    <tr>\n",
       "      <th>4</th>\n",
       "      <td>Enderman ,  Steve Human,  and Squid games for ...</td>\n",
       "      <td>jason28_hongfu</td>\n",
       "      <td>NaN</td>\n",
       "    </tr>\n",
       "    <tr>\n",
       "      <th>...</th>\n",
       "      <td>...</td>\n",
       "      <td>...</td>\n",
       "      <td>...</td>\n",
       "    </tr>\n",
       "    <tr>\n",
       "      <th>60321</th>\n",
       "      <td>Squid Games dekha Aaj pura ka pura,Kasam se Ek...</td>\n",
       "      <td>DesiGamers01</td>\n",
       "      <td>NaN</td>\n",
       "    </tr>\n",
       "    <tr>\n",
       "      <th>60322</th>\n",
       "      <td>I just watched ep 6 of squid games ...</td>\n",
       "      <td>KanishkaPal8</td>\n",
       "      <td>NaN</td>\n",
       "    </tr>\n",
       "    <tr>\n",
       "      <th>60323</th>\n",
       "      <td>After watching #squidgamenetflix last night, I...</td>\n",
       "      <td>EmilioCot</td>\n",
       "      <td>NaN</td>\n",
       "    </tr>\n",
       "    <tr>\n",
       "      <th>60324</th>\n",
       "      <td>Man I told someone to watch squid games and th...</td>\n",
       "      <td>_ETNOM</td>\n",
       "      <td>NaN</td>\n",
       "    </tr>\n",
       "    <tr>\n",
       "      <th>60325</th>\n",
       "      <td>Squid games brother 😭</td>\n",
       "      <td>summxrchxld</td>\n",
       "      <td>NaN</td>\n",
       "    </tr>\n",
       "  </tbody>\n",
       "</table>\n",
       "<p>60326 rows × 3 columns</p>\n",
       "</div>"
      ],
      "text/plain": [
       "                                                  Tweets           Author  To1\n",
       "0                       Squid games baru nyampek S2 kah?        brucettha  NaN\n",
       "1                       Squid games baru nyampek S2 kah?        brucettha  NaN\n",
       "2                           Squid games sama yumi cells🤩         nirrguna  NaN\n",
       "3                          Yumi's Cells sama squid games  Vitaliatristin3  NaN\n",
       "4      Enderman ,  Steve Human,  and Squid games for ...   jason28_hongfu  NaN\n",
       "...                                                  ...              ...  ...\n",
       "60321  Squid Games dekha Aaj pura ka pura,Kasam se Ek...     DesiGamers01  NaN\n",
       "60322             I just watched ep 6 of squid games ...     KanishkaPal8  NaN\n",
       "60323  After watching #squidgamenetflix last night, I...        EmilioCot  NaN\n",
       "60324  Man I told someone to watch squid games and th...           _ETNOM  NaN\n",
       "60325                              Squid games brother 😭      summxrchxld  NaN\n",
       "\n",
       "[60326 rows x 3 columns]"
      ]
     },
     "execution_count": 136,
     "metadata": {},
     "output_type": "execute_result"
    }
   ],
   "source": [
    "df"
   ]
  }
 ],
 "metadata": {
  "interpreter": {
   "hash": "13f50a7a1b531a095c83e31853ef4fdc51ba259bb9c9bec0ebff0d367e90d5dc"
  },
  "kernelspec": {
   "display_name": "Python 3.9.5 64-bit ('base': conda)",
   "name": "python3"
  },
  "language_info": {
   "codemirror_mode": {
    "name": "ipython",
    "version": 3
   },
   "file_extension": ".py",
   "mimetype": "text/x-python",
   "name": "python",
   "nbconvert_exporter": "python",
   "pygments_lexer": "ipython3",
   "version": "3.9.5"
  },
  "orig_nbformat": 4
 },
 "nbformat": 4,
 "nbformat_minor": 2
}
